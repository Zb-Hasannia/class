{
  "nbformat": 4,
  "nbformat_minor": 0,
  "metadata": {
    "colab": {
      "provenance": []
    },
    "kernelspec": {
      "name": "python3",
      "display_name": "Python 3"
    },
    "language_info": {
      "name": "python"
    }
  },
  "cells": [
    {
      "cell_type": "code",
      "source": [
        "import random"
      ],
      "metadata": {
        "id": "G0yGuxgIL926"
      },
      "execution_count": null,
      "outputs": []
    },
    {
      "cell_type": "code",
      "source": [
        "phone_numbers = []"
      ],
      "metadata": {
        "id": "kTu0op2hMGAB"
      },
      "execution_count": null,
      "outputs": []
    },
    {
      "cell_type": "markdown",
      "source": [
        "**Getting the number of participants**"
      ],
      "metadata": {
        "id": "uyasy5VyX9PP"
      }
    },
    {
      "cell_type": "code",
      "source": [
        "Participant = int(input('Enter the number of participants: '))"
      ],
      "metadata": {
        "colab": {
          "base_uri": "https://localhost:8080/"
        },
        "id": "-z-FmZTMQkyK",
        "outputId": "063973e6-8e04-4b88-91bf-d61c67c953b5"
      },
      "execution_count": null,
      "outputs": [
        {
          "name": "stdout",
          "output_type": "stream",
          "text": [
            "Enter the number of participants: 30\n"
          ]
        }
      ]
    },
    {
      "cell_type": "code",
      "source": [
        "for i in range(Participant):\n",
        "    pre = '09'\n",
        "    numbers = random.randint(100_000_000, 999_999_999)\n",
        "    phone_number = f'{pre}{numbers}'\n",
        "    phone_numbers.append(phone_number)"
      ],
      "metadata": {
        "id": "sqb7T2cjNx2c"
      },
      "execution_count": null,
      "outputs": []
    },
    {
      "cell_type": "markdown",
      "source": [
        "**Getting the number of winners**"
      ],
      "metadata": {
        "id": "gALuIstfYKzO"
      }
    },
    {
      "cell_type": "code",
      "source": [
        "Winner = int(input('Enter the number of winners: '))"
      ],
      "metadata": {
        "colab": {
          "base_uri": "https://localhost:8080/"
        },
        "id": "gTeCyFDFRVKK",
        "outputId": "ac01156e-213e-4f08-fab9-6484cf2ff714"
      },
      "execution_count": null,
      "outputs": [
        {
          "name": "stdout",
          "output_type": "stream",
          "text": [
            "Enter the number of winners: 5\n"
          ]
        }
      ]
    },
    {
      "cell_type": "code",
      "source": [
        "winners = random.sample(phone_numbers, Winner)"
      ],
      "metadata": {
        "id": "ibrTwhAwOYtB"
      },
      "execution_count": null,
      "outputs": []
    },
    {
      "cell_type": "markdown",
      "source": [
        "**Getting the number of winners**"
      ],
      "metadata": {
        "id": "9RYJ48LVYqy8"
      }
    },
    {
      "cell_type": "code",
      "source": [
        "winners = [item[:4]+'***'+item[-3:] for item in winners]"
      ],
      "metadata": {
        "id": "z4vZsgPtVOvu"
      },
      "execution_count": null,
      "outputs": []
    },
    {
      "cell_type": "code",
      "source": [
        "print('The winner is:', winners)"
      ],
      "metadata": {
        "colab": {
          "base_uri": "https://localhost:8080/"
        },
        "id": "_qHqZTTtXDnL",
        "outputId": "91c049d9-9984-4659-bc27-f69e04da77f3"
      },
      "execution_count": null,
      "outputs": [
        {
          "output_type": "stream",
          "name": "stdout",
          "text": [
            "The winner is: ['0996***865', '0964***134', '0918***895', '0969***209', '0980***076']\n"
          ]
        }
      ]
    },
    {
      "cell_type": "code",
      "source": [],
      "metadata": {
        "id": "_6L6rjp5XpJV"
      },
      "execution_count": null,
      "outputs": []
    },
    {
      "cell_type": "markdown",
      "source": [
        "# New Section"
      ],
      "metadata": {
        "id": "XYZacYClZOzc"
      }
    }
  ]
}